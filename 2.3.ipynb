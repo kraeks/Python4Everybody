{
 "cells": [
  {
   "cell_type": "markdown",
   "id": "6fab8ffa",
   "metadata": {},
   "source": [
    "## 2.3 Variablennamen und Schlüsselwörter"
   ]
  },
  {
   "cell_type": "markdown",
   "id": "f3924c67",
   "metadata": {},
   "source": [
    "Programmierer wählen in der Regel aussagekräftige Namen für ihre Variablen, die dokumentieren, wofür die Variable verwendet wird.\n",
    "Variablennamen können beliebig lang sein. Sie können sowohl Buchstaben als auch Zahlen enthalten, aber sie dürfen nicht mit einer Zahl beginnen. Es ist möglich, Großbuchstaben zu verwenden, aber es wäre besser, Variablennamen mit einem Kleinbuchstaben zu beginnen (sie werden später sehen warum).\n",
    "Der \"underscore character\" (Unterstrichzeichen) (_) kann in einem Namen vorkommen. Er wird häufig in Namen mit mehreren Wörtern verwendet, wie z. B. mein_name oder airspeed_of_unladen_swallow. Variablennamen können mit einem Unterstrichzeichen beginnen, aber wir vermeiden dies im Allgemeinen, es sei denn, wir schreiben \"library code\" (Bibliothekscode), den andere verwenden sollen.\n",
    "Wenn Sie einer Variable einen unzulässigen Namen geben, erhalten Sie einen Syntaxfehler:"
   ]
  },
  {
   "cell_type": "code",
   "execution_count": null,
   "id": "0e6772f0",
   "metadata": {},
   "outputs": [],
   "source": [
    ">>> 76trombones = 'big parade'\n",
    "SyntaxError: invalid syntax\n",
    ">>> more@ = 1000\n",
    "SyntaxError: invalid syntax\n",
    ">>> class = 'Advanced Theoretical Zymurgy'\n",
    "SyntaxError: invalid syntax"
   ]
  },
  {
   "cell_type": "markdown",
   "id": "e15d8251",
   "metadata": {},
   "source": [
    "76trombones ist nicht möglich, weil es mit einer Zahl beginnt. more@ ist auch nicht in Ordnung, weil es ein illegales Zeichen, @, enthält. Aber was ist falsch an \"class\"?\n",
    "Es stellt sich heraus, dass \"class\" eines der \"keywords\" (Schlüsselwörter) von Python ist. Der Interpreter verwendet keywords, um die Struktur des Programms zu erkennen und sie können nicht als Variablennamen verwendet werden.\n",
    "Python verfügt über 33 Schlüsselwörter:"
   ]
  },
  {
   "cell_type": "markdown",
   "id": "9335af18",
   "metadata": {},
   "source": [
    "and\n",
    "as\n",
    "assert\n",
    "break\n",
    "class\n",
    "continue\n",
    "def\n",
    "del \n",
    "elif\n",
    "else\n",
    "except\n",
    "False\n",
    "finally\n",
    "for\n",
    "from\n",
    "global\n",
    "if\n",
    "import\n",
    "in\n",
    "is\n",
    "lambda\n",
    "None\n",
    "nonlocal\n",
    "not\n",
    "or\n",
    "pass\n",
    "raise\n",
    "return\n",
    "True\n",
    "try\n",
    "while\n",
    "with\n",
    "yield"
   ]
  },
  {
   "cell_type": "markdown",
   "id": "7692934a",
   "metadata": {},
   "source": [
    "Sie sollten diese Liste griffbereit halten. Wenn sich der Interpreter über einen Ihrer Variablennamen beschwert und Sie nicht wissen, warum, sehen Sie nach, ob er auf dieser Liste steht."
   ]
  }
 ],
 "metadata": {
  "kernelspec": {
   "display_name": "Python 3 (ipykernel)",
   "language": "python",
   "name": "python3"
  },
  "language_info": {
   "codemirror_mode": {
    "name": "ipython",
    "version": 3
   },
   "file_extension": ".py",
   "mimetype": "text/x-python",
   "name": "python",
   "nbconvert_exporter": "python",
   "pygments_lexer": "ipython3",
   "version": "3.9.13"
  }
 },
 "nbformat": 4,
 "nbformat_minor": 5
}
