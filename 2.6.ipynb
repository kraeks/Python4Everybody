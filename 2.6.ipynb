{
 "cells": [
  {
   "cell_type": "markdown",
   "id": "d5cf7d3f",
   "metadata": {},
   "source": [
    "## 2.6 Ausdrücke"
   ]
  },
  {
   "cell_type": "markdown",
   "id": "b9f64db2",
   "metadata": {},
   "source": [
    "Ein \"expression\" (Ausdruck) ist eine Kombination aus Werten, Variablen und Operatoren. Ein Wert allein gilt als Ausdruck, ebenso eine Variable. Die folgenden Ausdrücke sind also alle zulässig (vorausgesetzt, der Variablen x wurde ein Wert zugewiesen):"
   ]
  },
  {
   "cell_type": "code",
   "execution_count": null,
   "id": "10182eee",
   "metadata": {},
   "outputs": [],
   "source": [
    "17\n",
    "x\n",
    "x + 17"
   ]
  },
  {
   "cell_type": "markdown",
   "id": "77f7d956",
   "metadata": {},
   "source": [
    "Wenn Sie einen Ausdruck im interaktiven Modus eingeben, \"wertet\" der Interpreter ihn aus und zeigt das Ergebnis an:"
   ]
  },
  {
   "cell_type": "code",
   "execution_count": null,
   "id": "2022cac5",
   "metadata": {},
   "outputs": [],
   "source": [
    ">>> 1 + 1\n",
    "2"
   ]
  },
  {
   "cell_type": "markdown",
   "id": "cfeb2e75",
   "metadata": {},
   "source": [
    "Aber in einem Skript bewirkt ein Ausdruck allein gar nichts! Dies führt bei Anfängern häufig zu Verwirrung."
   ]
  },
  {
   "cell_type": "markdown",
   "id": "ca478ce7",
   "metadata": {},
   "source": [
    "### Aufgabe 1: Geben Sie die folgenden Anweisungen in den Python-Interpreter ein, um zu sehen, was sie bewirken:"
   ]
  },
  {
   "cell_type": "code",
   "execution_count": null,
   "id": "bd7a5700",
   "metadata": {},
   "outputs": [],
   "source": [
    "5\n",
    "x = 5\n",
    "x + 1"
   ]
  }
 ],
 "metadata": {
  "kernelspec": {
   "display_name": "Python 3 (ipykernel)",
   "language": "python",
   "name": "python3"
  },
  "language_info": {
   "codemirror_mode": {
    "name": "ipython",
    "version": 3
   },
   "file_extension": ".py",
   "mimetype": "text/x-python",
   "name": "python",
   "nbconvert_exporter": "python",
   "pygments_lexer": "ipython3",
   "version": "3.9.13"
  }
 },
 "nbformat": 4,
 "nbformat_minor": 5
}
