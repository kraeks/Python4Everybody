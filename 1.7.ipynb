{
 "cells": [
  {
   "cell_type": "markdown",
   "id": "df177c72",
   "metadata": {},
   "source": [
    "## 1.7 Ein Programm schreiben"
   ]
  },
  {
   "cell_type": "markdown",
   "id": "c1f1bad6",
   "metadata": {},
   "source": [
    "Das Eingeben von Befehlen in den Python-Interpreter ist ein guter Weg, um mit den Funktionen von Python zu experimentieren. Es wird jedoch nicht empfohlen, um komplexere Probleme zu lösen.\n",
    "Wenn wir ein Programm schreiben wollen, verwenden wir einen Texteditor, um die Python-Anweisungen in eine Datei zu schreiben, die als *Skript* bezeichnet wird. Python-Skripte haben meist Namen, die auf **.py** enden.\n",
    "Um das Skript auszuführen, müssen Sie dem Python-Interpreter den Namen der Datei mitteilen.\n",
    "In einem Befehlsfenster würden Sie python **hello.py** wie folgt eingeben:"
   ]
  },
  {
   "cell_type": "code",
   "execution_count": null,
   "id": "d327169a",
   "metadata": {},
   "outputs": [],
   "source": [
    "$ cat hello.py\n",
    "print('Hello world!')\n",
    "$ python hello.py\n",
    "Hello world!"
   ]
  },
  {
   "cell_type": "markdown",
   "id": "ac0cd09d",
   "metadata": {},
   "source": [
    "Das \"$\" ist die Eingabeaufforderung des Betriebssystems und das \"cat hello.py\" zeigt, dass die Datei \"hello.py\" ein einzeiliges Python-Programm enthält, das eine Zeichenkette (String) ausgibt.\n",
    "Der Python-Interpreter wird aufgerufen und ihm wird gesagt, dass er seinen Quellcode aus der Datei \"hello.py\" lesen soll, anstatt uns interaktiv nach Python-Codezeilen zu fragen.\n",
    "Man kann feststellen, dass es nicht nötig war *quit()* am Ende des Python-Programms in der Datei zu verwenden. Wenn Python den Quellcode aus einer Datei liest, weiß es, dass es aufhören muss, wenn es das Ende der Datei erreicht."
   ]
  }
 ],
 "metadata": {
  "kernelspec": {
   "display_name": "Python 3 (ipykernel)",
   "language": "python",
   "name": "python3"
  },
  "language_info": {
   "codemirror_mode": {
    "name": "ipython",
    "version": 3
   },
   "file_extension": ".py",
   "mimetype": "text/x-python",
   "name": "python",
   "nbconvert_exporter": "python",
   "pygments_lexer": "ipython3",
   "version": "3.9.13"
  }
 },
 "nbformat": 4,
 "nbformat_minor": 5
}
