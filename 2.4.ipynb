{
 "cells": [
  {
   "cell_type": "markdown",
   "id": "12852de9",
   "metadata": {},
   "source": [
    "## 2.4 Anweisung"
   ]
  },
  {
   "cell_type": "markdown",
   "id": "6c164cae",
   "metadata": {},
   "source": [
    "Ein Statement (Anweisung) ist eine Einheit von Code, die der Python-Interpreter ausführen kann. Wir haben zwei Arten von Statements kennengelernt: \"print\" ist eine Ausdrucksanweisung und eine Zuweisung.\n",
    "Wenn Sie ein Statement im interaktiven Modus eingeben, führt der Interpreter sie aus und zeigt das Ergebnis an, falls es eines gibt."
   ]
  },
  {
   "cell_type": "markdown",
   "id": "d56db745",
   "metadata": {},
   "source": [
    "Ein Skript enthält in der Regel eine Folge von Anweisungen. Wenn es mehr als eine Anweisung gibt, werden die Ergebnisse nacheinander angezeigt, während die Anweisungen ausgeführt werden.\n",
    "Zum Beispiel kann das Skript"
   ]
  },
  {
   "cell_type": "code",
   "execution_count": null,
   "id": "f091bbdc",
   "metadata": {},
   "outputs": [],
   "source": [
    "print(1)\n",
    "x = 2\n",
    "print(x)"
   ]
  },
  {
   "cell_type": "markdown",
   "id": "9407e111",
   "metadata": {},
   "source": [
    "ein \"output\" (Ausgabe) erzeugen"
   ]
  },
  {
   "cell_type": "code",
   "execution_count": null,
   "id": "035af911",
   "metadata": {},
   "outputs": [],
   "source": [
    "1\n",
    "2"
   ]
  },
  {
   "cell_type": "markdown",
   "id": "6bfb040f",
   "metadata": {},
   "source": [
    "Das \"assignment statement\" (ZuweisungsanweisungI erzeugt kein output."
   ]
  }
 ],
 "metadata": {
  "kernelspec": {
   "display_name": "Python 3 (ipykernel)",
   "language": "python",
   "name": "python3"
  },
  "language_info": {
   "codemirror_mode": {
    "name": "ipython",
    "version": 3
   },
   "file_extension": ".py",
   "mimetype": "text/x-python",
   "name": "python",
   "nbconvert_exporter": "python",
   "pygments_lexer": "ipython3",
   "version": "3.9.13"
  }
 },
 "nbformat": 4,
 "nbformat_minor": 5
}
