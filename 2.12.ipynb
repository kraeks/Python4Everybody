{
 "cells": [
  {
   "cell_type": "markdown",
   "id": "037d56be",
   "metadata": {},
   "source": [
    "## 2.12 Auswahl von mnemonischen Variablennamen"
   ]
  },
  {
   "cell_type": "markdown",
   "id": "6c7382a9",
   "metadata": {},
   "source": [
    "Solange Sie die einfachen Regeln für die Benennung von Variablen befolgen und reservierte Wörter vermeiden, haben Sie bei der Benennung Ihrer Variablen eine große Auswahl. Zu Beginn kann diese Auswahl verwirrend sein, sowohl wenn Sie ein Programm lesen als auch wenn Sie Ihre eigenen Programme schreiben. Die folgenden drei Programme sind zum Beispiel identisch, wenn es darum geht, was sie leisten, aber sehr unterschiedlich, wenn Sie sie lesen und versuchen, sie zu verstehen."
   ]
  },
  {
   "cell_type": "code",
   "execution_count": null,
   "id": "07e46fac",
   "metadata": {},
   "outputs": [],
   "source": [
    "a = 35.0\n",
    "b = 12.50\n",
    "c = a * b\n",
    "print(c)\n",
    "\n",
    "hours = 35.0\n",
    "rate = 12.50\n",
    "pay = hours * rate\n",
    "print(pay)\n",
    "\n",
    "x1q3z9ahd = 35.0\n",
    "x1q3z9afd = 12.50\n",
    "x1q3p9afd = x1q3z9ahd * x1q3z9afd\n",
    "print(x1q3p9afd)"
   ]
  },
  {
   "cell_type": "markdown",
   "id": "59a2b7ca",
   "metadata": {},
   "source": [
    "Der Python-Interpreter sieht alle drei Programme als genau dasselbe an, aber Menschen sehen und verstehen diese Programme ganz anders. Menschen werden die Absicht des zweiten Programms am schnellsten verstehen, weil der Programmierer Variablennamen gewählt hat, die seine Absicht hinsichtlich der in den einzelnen Variablen zu speichernden Daten widerspiegeln.\n",
    "\n",
    "Wir nennen diese klug gewählten Variablennamen \"mnemonische Variablennamen\". Das Wort \"mnemonisch\" (siehe https://en.wikipedia.org/wiki/Mnemonic für eine ausführliche Beschreibung des Wortes \"mnemonic\") bedeutet \"Gedächtnisstütze\". Wir wählen mnemonische Variablennamen, um uns daran zu erinnern, warum wir die Variable überhaupt erstellt haben.\n",
    "\n",
    "Das hört sich alles sehr gut an und es ist eine gute Idee, sprechende Variablennamen zu verwenden, aber sprechende Variablennamen können Programmieranfängern beim analysieren und verstehen von Code im Weg stehen. Das liegt daran, dass sich Programmieranfänger die reservierten Wörter noch nicht eingeprägt haben (es gibt nur 33 davon) und manchmal sehen Variablen mit zu beschreibenden Namen wie ein Teil der Sprache aus und nicht wie gut gewählte Variablennamen.\n",
    "\n",
    "Werfen Sie einen kurzen Blick auf den folgenden Python-Beispielcode, der einige Daten in Schleifen durchläuft. Wir werden uns bald mit \"loops\" (Schleifen) beschäftigen, aber versuchen Sie erst einmal zu verstehen, was das bedeutet:"
   ]
  },
  {
   "cell_type": "code",
   "execution_count": null,
   "id": "96d9600e",
   "metadata": {},
   "outputs": [],
   "source": [
    "for word in words:\n",
    "    print(word)"
   ]
  },
  {
   "cell_type": "markdown",
   "id": "3cecb2f6",
   "metadata": {},
   "source": [
    "Was ist hier los? Welche der \"token\" (for, word, in, etc.) sind reservierte Wörter und welche sind nur Variablennamen? Versteht Python auf einer grundlegenden Ebene den Begriff der Wörter? Programmieranfängern fällt es schwer zu unterscheiden, welche Teile des Codes mit diesem Beispiel übereinstimmen müssen und welche Teile des Codes einfach eine Entscheidung des Programmierers sind.\n",
    "Der folgende Code ist äquivalent zum obigen Code:"
   ]
  },
  {
   "cell_type": "code",
   "execution_count": null,
   "id": "5ab8ed37",
   "metadata": {},
   "outputs": [],
   "source": [
    "for slice in pizza: \n",
    "    print(slice)"
   ]
  },
  {
   "cell_type": "markdown",
   "id": "82d09f6a",
   "metadata": {},
   "source": [
    "Für den Programmieranfänger ist es einfacher, sich diesen Code anzuschauen und zu wissen, welche Teile reservierte Wörter sind, die von Python definiert wurden und welche Teile einfach vom Programmierer gewählte Variablennamen sind. Es ist ziemlich klar, dass Python kein grundlegendes Verständnis von Pizza und Scheiben und der Tatsache hat, dass eine Pizza aus einer Menge von einer oder mehreren Scheiben besteht.\n",
    "\n",
    "Aber wenn es in unserem Programm wirklich darum geht, Daten zu lesen und nach Wörtern in den Daten zu suchen, dann sind \"Pizza\" und \"Slice\" sehr un-mnemonisch Variablennamen. Sie als Variablennamen zu wählen, lenkt vom Sinn des Programms ab.\n",
    "\n",
    "Nach recht kurzer Zeit werden Sie die häufigsten reservierten Wörter kennen und die reservierten Wörter werden Ihnen ins Auge springen:\n",
    "\n",
    "Die von Python definierten Teile des Codes (for, in, print und :) sind fett gedruckt, die vom Programmierer gewählten Variablen (word und words) sind nicht fett gedruckt. Viele Texteditoren sind sich der Python-Syntax bewusst und färben reservierte Wörter anders ein, um Ihnen Hinweise zu geben, Ihre Variablen und reservierten Wörter getrennt zu halten. Nach einer Weile werden Sie Python lesen und schnell feststellen, was eine Variable und was ein reserviertes Wort ist."
   ]
  }
 ],
 "metadata": {
  "kernelspec": {
   "display_name": "Python 3 (ipykernel)",
   "language": "python",
   "name": "python3"
  },
  "language_info": {
   "codemirror_mode": {
    "name": "ipython",
    "version": 3
   },
   "file_extension": ".py",
   "mimetype": "text/x-python",
   "name": "python",
   "nbconvert_exporter": "python",
   "pygments_lexer": "ipython3",
   "version": "3.9.13"
  }
 },
 "nbformat": 4,
 "nbformat_minor": 5
}
