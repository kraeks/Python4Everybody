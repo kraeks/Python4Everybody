{
 "cells": [
  {
   "cell_type": "markdown",
   "id": "e2c29c02",
   "metadata": {},
   "source": [
    "**assignment (Auftrag)** Eine Anweisung, die einer Variablen einen Wert zuweist.\n",
    "**concatenate (Verketten)** Zwei Operanden aneinanderreihen.\n",
    "**comment (Kommentar)** Informationen in einem Programm, die für andere Programmierer (oder jeden, der den Quellcode liest) bestimmt sind und keinen Einfluss auf die Ausführung des Programms haben.\n",
    "**evaluate (bewerten)** Einen Ausdruck vereinfachen, indem die Operationen so ausgeführt werden, dass ein einziger Wert entsteht.\n",
    "**expression (Ausdruck)** Eine Kombination von Variablen, Operatoren und Werten, die einen\n",
    "einzelnen Ergebniswert darstellt.\n",
    "**floating point (Fließkomma)** Ein Typ, der Zahlen mit Bruchteilen darstellt.\n",
    "**integer (Ganzzahl)** Ein Typ, der ganze Zahlen darstellt.\n",
    "**keyword (Schlüsselwort)** Ein reserviertes Wort, das vom Compiler zum analysieren eines Programms verwendet wird; Sie können Schlüsselwörter wie if, def und while nicht als Variablennamen verwenden.\n",
    "**mnemonic (mnemonisch)** Eine Gedächtnisstütze. Wir geben Variablen oft mnemonische Namen, damit wir uns\n",
    "zu erinnern, was in der Variable gespeichert ist.\n",
    "**modulus operator (Modulus Operator)** Ein mit einem Prozentzeichen (%) gekennzeichneter Operator, der mit ganzen Zahlen arbeitet und den Rest ergibt, wenn eine Zahl durch eine andere dividiert wird.\n",
    "**operand (Operand)** Einer der Werte, mit denen ein Operator arbeitet.\n",
    "**operator (Operator)** Ein spezielles Symbol, das eine einfache Berechnung wie Addition,\n",
    "Multiplikation oder die Verkettung von strings darstellt. \n",
    "**rules of percedence (Vorrangregeln)** Eine Reihe von Regeln, die die Reihenfolge bestimmen, in der Ausdrücke\n",
    "mit mehreren Operatoren und Operanden ausgewertet werden.\n",
    "**statement (Anweisungen)** Ein Abschnitt des Codes, der einen Befehl oder eine Aktion darstellt. Bisher haben wir Zuweisungen und Druckausdrücke gesehen.\n",
    "**string (Zeichenkette)** Ein Typ, der Folgen von Zeichen darstellt.\n",
    "**type (Typ)** Eine Kategorie von Werten. Die Typen, die wir bisher gesehen haben, sind Ganzzahlen (type int), floating-point numbers (type float) und strings (type str).\n",
    "**value (Wert)** Eine der grundlegenden Dateneinheiten, wie eine Zahl oder eine Zeichenkette, die ein Programm\n",
    "manipuliert.\n",
    "**variable (Variable)** Ein Name, der sich auf einen Wert bezieht."
   ]
  }
 ],
 "metadata": {
  "kernelspec": {
   "display_name": "Python 3 (ipykernel)",
   "language": "python",
   "name": "python3"
  },
  "language_info": {
   "codemirror_mode": {
    "name": "ipython",
    "version": 3
   },
   "file_extension": ".py",
   "mimetype": "text/x-python",
   "name": "python",
   "nbconvert_exporter": "python",
   "pygments_lexer": "ipython3",
   "version": "3.9.13"
  }
 },
 "nbformat": 4,
 "nbformat_minor": 5
}
