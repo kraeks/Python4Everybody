{
 "cells": [
  {
   "cell_type": "markdown",
   "id": "020ddd51",
   "metadata": {},
   "source": [
    "## Debugging"
   ]
  },
  {
   "cell_type": "markdown",
   "id": "9163552d",
   "metadata": {},
   "source": [
    "Der wahrscheinlichste Syntaxfehler ist ein unzulässiger Variablenname, wie \"class\" und \"yield\", die Schlüsselwörter sind, oder \"odd~job\" und \"US$\", die unzulässige Zeichen enthalten.\n",
    "Wenn Sie ein Leerzeichen in einen Variablennamen einfügen, denkt Python, dass es sich um zwei Operanden ohne einen Operator handelt:"
   ]
  },
  {
   "cell_type": "code",
   "execution_count": null,
   "id": "2a197e58",
   "metadata": {},
   "outputs": [],
   "source": [
    ">>> bad name = 5\n",
    "SyntaxError: invalid syntax\n",
    "    \n",
    ">>> month = 09\n",
    "  File \"<stdin>\", line 1\n",
    "    month = 09\n",
    "    \n",
    "SyntaxError: invalid token    "
   ]
  },
  {
   "cell_type": "markdown",
   "id": "e5aff77c",
   "metadata": {},
   "source": [
    "Bei Syntaxfehlern sind die Fehlermeldungen nicht sehr hilfreich. Die häufigsten Meldungen sind \"SyntaxError: invalid syntax\" und \"SyntaxError: invalid token\", die beide nicht sehr informativ sind.\n",
    "\n",
    "Der Laufzeitfehler, der am ehesten auftritt, ist ein \"use before def;\", d. h. der Versuch, eine Variable zu verwenden, bevor Sie einen Wert zugewiesen haben. Dies kann passieren, wenn Sie einen Variablennamen falsch schreiben:"
   ]
  },
  {
   "cell_type": "code",
   "execution_count": null,
   "id": "fe3e12de",
   "metadata": {},
   "outputs": [],
   "source": [
    ">>> principal = 327.68\n",
    ">>> interest = principle * rate\n",
    "NameError: name 'principle' is not defined"
   ]
  },
  {
   "cell_type": "markdown",
   "id": "cec7e107",
   "metadata": {},
   "source": [
    "Bei Variablennamen wird zwischen Groß- und Kleinschreibung unterschieden, LaTeX ist also nicht dasselbe wie Latex.\n",
    "An diesem Punkt ist die wahrscheinlichste Ursache für einen semantischen Fehler die Reihenfolge der Operationen.\n",
    "Um zum Beispiel 1/2π auszuwerten, könnte man versucht sein, zu schreiben"
   ]
  },
  {
   "cell_type": "code",
   "execution_count": null,
   "id": "acb2b44e",
   "metadata": {},
   "outputs": [],
   "source": [
    ">>> 1.0 / 2.0 + pi"
   ]
  },
  {
   "cell_type": "markdown",
   "id": "cd26a3c4",
   "metadata": {},
   "source": [
    "Aber die Division findet zuerst statt, also würden Sie π/2 erhalten, was nicht dasselbe ist!\n",
    "Es gibt keine Möglichkeit für Python zu wissen, was Sie schreiben wollten. In diesem Fall erhalten Sie also keine Fehlermeldung, sondern nur die falsche Antwort."
   ]
  }
 ],
 "metadata": {
  "kernelspec": {
   "display_name": "Python 3 (ipykernel)",
   "language": "python",
   "name": "python3"
  },
  "language_info": {
   "codemirror_mode": {
    "name": "ipython",
    "version": 3
   },
   "file_extension": ".py",
   "mimetype": "text/x-python",
   "name": "python",
   "nbconvert_exporter": "python",
   "pygments_lexer": "ipython3",
   "version": "3.9.13"
  }
 },
 "nbformat": 4,
 "nbformat_minor": 5
}
