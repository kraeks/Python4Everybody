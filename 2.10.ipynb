{
 "cells": [
  {
   "cell_type": "markdown",
   "id": "a46d89c9",
   "metadata": {},
   "source": [
    "## 2.10 Aufforderung zur Eingabe durch den Nutzer"
   ]
  },
  {
   "cell_type": "markdown",
   "id": "7448bf6f",
   "metadata": {},
   "source": [
    "Manchmal möchten wir den Wert für eine Variable vom Benutzer über die Tastatur übernehmen. Python bietet hierfür eine eingebaute Funktion namens \"input\", die Eingaben von der Tastatur entgegennimmt (in Python 2.0 wurde die Funktion raw_input genannt). Wenn diese Funktion aufgerufen wird, hält das Programm an und wartet darauf, dass der Benutzer etwas eingibt. Wenn der Benutzer \"Return\" oder \"Enter\" drückt, wird das Programm fortgesetzt und \"input\" gibt den vom Benutzer eingegebenen Wert als string zurück."
   ]
  },
  {
   "cell_type": "code",
   "execution_count": null,
   "id": "10aed5b6",
   "metadata": {},
   "outputs": [],
   "source": [
    ">>> inp = input\n",
    "Some silly stuff\n",
    ">>> print(inp)\n",
    "Some silly stuff"
   ]
  },
  {
   "cell_type": "markdown",
   "id": "392eb523",
   "metadata": {},
   "source": [
    "Bevor Sie eine Eingabe vom Benutzer erhalten, ist es eine gute Idee, eine Eingabeaufforderung anzuzeigen, die dem Benutzer mitteilt, was er eingeben soll. Sie können einen string an \"input\" übergeben, die dem Benutzer angezeigt wird, bevor er die Eingabe unterbricht:"
   ]
  },
  {
   "cell_type": "code",
   "execution_count": null,
   "id": "e65236ae",
   "metadata": {},
   "outputs": [],
   "source": [
    ">>> name = input('What is your name?')\n",
    "What is your name?\n",
    "Chuck\n",
    ">>>print(name)\n",
    "Chuck"
   ]
  },
  {
   "cell_type": "markdown",
   "id": "c0984a24",
   "metadata": {},
   "source": [
    "Die Sequenz \\n am Ende der Eingabeaufforderung steht für eine \"newline\", ein Sonderzeichen, das einen Zeilenumbruch bewirkt. Aus diesem Grund erscheint die Eingabe des Benutzers unterhalb der Eingabeaufforderung.\n",
    "Wenn Sie erwarten, dass der Benutzer eine Ganzzahl eingibt, können Sie versuchen, den Rückgabewert mit der Funktion int () in \"int\" zu konvertieren:"
   ]
  },
  {
   "cell_type": "code",
   "execution_count": null,
   "id": "9eb9c082",
   "metadata": {},
   "outputs": [],
   "source": [
    ">>> prompt = 'What...is the airspeed velocity of an unladen swallow?'\n",
    ">>> speed = input(prompt)\n",
    "What...is the airspeed velocity of an unladen swallow?\n",
    "17\n",
    ">>> int(speed)\n",
    "17\n",
    ">>> int(speed) + 5\n",
    "22"
   ]
  },
  {
   "cell_type": "markdown",
   "id": "8d0b15e1",
   "metadata": {},
   "source": [
    "Wenn der Nutzer jedoch etwas anderes als einen string oder einer Zahl eingibt, erhält man einen Fehler:"
   ]
  },
  {
   "cell_type": "code",
   "execution_count": null,
   "id": "3be99036",
   "metadata": {},
   "outputs": [],
   "source": [
    ">>> speed = input(prompt)\n",
    "What...is the airspeed velocity of an unladen swallow?\n",
    "What do you mean, an African or a European swallow?\n",
    ">>> int(speed)\n",
    "ValueError: invalid literal for int() with base 10:"
   ]
  },
  {
   "cell_type": "markdown",
   "id": "3ddd42b1",
   "metadata": {},
   "source": [
    "Wir werden zu einem späteren Zeitpunkt herausfinden, wie man diese Art von Fehler behebt. "
   ]
  }
 ],
 "metadata": {
  "kernelspec": {
   "display_name": "Python 3 (ipykernel)",
   "language": "python",
   "name": "python3"
  },
  "language_info": {
   "codemirror_mode": {
    "name": "ipython",
    "version": 3
   },
   "file_extension": ".py",
   "mimetype": "text/x-python",
   "name": "python",
   "nbconvert_exporter": "python",
   "pygments_lexer": "ipython3",
   "version": "3.9.13"
  }
 },
 "nbformat": 4,
 "nbformat_minor": 5
}
