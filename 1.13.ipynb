{
 "cells": [
  {
   "cell_type": "markdown",
   "id": "c55bea32",
   "metadata": {},
   "source": [
    "## Glossar"
   ]
  },
  {
   "cell_type": "markdown",
   "id": "ea9d2f47",
   "metadata": {},
   "source": [
    "**bug (Fehler)** Ein Fehler in einem Programm.\n",
    "**central processing unit (zentrale Verarbeitungseinheit)** Das Herz eines jeden Computers. Auf ihm läuft die Software, die wir schreiben; auch \"CPU\" oder \"Prozessor\" genannt.\n",
    "**compile (übersetzen)** Übersetzung eines in einer anspruchsvollen Sprache geschriebenen Programms in eine anspruchslose Sprache auf einmal, als Vorbereitung für die spätere Ausführung.\n",
    "**high-level language (Anspruchsvolle Sprache)** Eine Programmiersprache wie Python, die so konzipiert ist, dass sie für Menschen leicht zu lesen und zu schreiben ist.\n",
    "**interactive mode (Interaktivmodus)** Eine Möglichkeit, den Python-Interpreter durch Eingabe von Befehlen und Ausdrücken an der Eingabeaufforderung zu verwenden.\n",
    "**interpret (interpretieren)** Ausführen eines Programms in einer anspruchsvollen Sprache durch zeilenweises Übersetzen Zeile für Zeile.\n",
    "**low-level language (Anspruchslose Sprache)** Eine Programmiersprache, die so konzipiert ist, dass sie von einem Computer leicht ausgeführt werden kann; auch \"Maschinencode\" oder \"Assemblersprache\" genannt.\n",
    "**machine code (Maschinencode)** Die anspruchloseste Sprache für Software, d. h. die Sprache, die direkt von der Zentraleinheit (CPU) ausgeführt wird.\n",
    "**main memory (Hauptspeicher)** Speichert Programme und Daten. Der Hauptspeicher verliert seine Informationen, wenn das Gerät ausgeschaltet wird.\n",
    "**parse (Zerlegen)** Ein Programm zu untersuchen und die syntaktische Struktur zu analysieren.\n",
    "**portability (Kompatibilität)** Eine Eigenschaft eines Programms, das auf mehr als einer Art von Computer laufen kann.\n",
    "**print function (Druckfunktion)** Eine Anweisung, die den Python-Interpreter veranlasst, einen Wert auf dem Bildschirm anzuzeigen.\n",
    "**problem solving (Problembehebung)** Der Prozess, ein Problem zu formulieren, eine Lösung zu finden und die Lösung auszudrücken.\n",
    "**program (Programm)** Eine Reihe von Anweisungen, die eine Berechnung ausführen.\n",
    "**promp (Eingabeaufforderung)** Wenn ein Programm eine Meldung anzeigt und pausiert, damit der Benutzer eine Eingabe in das Programm.\n",
    "**secondary memory (Sekundärspeicher)** Speichert Programme und Daten und behält die Informationen, auch wenn das Gerät ausgeschaltet wird. Im Allgemeinen langsamer als der Hauptspeicher. Beispiele für Sekundärspeicher sind Festplattenlaufwerke und Flash-Speicher in USB-Sticks.\n",
    "**semantics (Wortbedeutung)** Die Bedeutung eines Programms.\n",
    "**semantic error (Bedeutungsfehler)** Ein Fehler in einem Programm, der dazu führt, dass es etwas anderes tut als was der Programmierer beabsichtigt hat.\n",
    "**soure code (Quellcode)** Ein Programm in einer anspruchsvollen Sprache."
   ]
  }
 ],
 "metadata": {
  "kernelspec": {
   "display_name": "Python 3 (ipykernel)",
   "language": "python",
   "name": "python3"
  },
  "language_info": {
   "codemirror_mode": {
    "name": "ipython",
    "version": 3
   },
   "file_extension": ".py",
   "mimetype": "text/x-python",
   "name": "python",
   "nbconvert_exporter": "python",
   "pygments_lexer": "ipython3",
   "version": "3.9.13"
  }
 },
 "nbformat": 4,
 "nbformat_minor": 5
}
