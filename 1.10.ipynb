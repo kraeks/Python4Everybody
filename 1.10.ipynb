{
 "cells": [
  {
   "cell_type": "markdown",
   "id": "643351dc",
   "metadata": {},
   "source": [
    "## Was soll schon schiefgehen?"
   ]
  },
  {
   "cell_type": "markdown",
   "id": "f4017e31",
   "metadata": {},
   "source": [
    "Wie wir in unseren ersten Gesprächen mit Python gesehen haben, müssen wir genau kommunizieren, wenn wir Python-Code schreiben.\n",
    "Die kleinste Abweichung oder der kleinste Fehler wird dazu führen, dass Python aufhört, Ihr Programm zu betrachten.\n",
    "\n",
    "Programmieranfänger nehmen die Tatsache, dass Python keinen Raum für Fehler lässt, oft als Beweis dafür, dass Python gemein, hasserfüllt und grausam ist. Während Python alle anderen zu mögen scheint, kennt Python sie persönlich und hegt einen Groll gegen sie.\n",
    "Aufgrund dieses Grolls nimmt Python unsere fehlerfrei geschriebenen Programme und lehnt sie als \"untauglich\" ab, um uns zu quälen."
   ]
  },
  {
   "cell_type": "code",
   "execution_count": null,
   "id": "4c488ef8",
   "metadata": {},
   "outputs": [],
   "source": [
    ">>> primt 'Hello world!'\n",
    "File \"<stdin>\", line 1\n",
    "    primt 'Hello World!'"
   ]
  },
  {
   "cell_type": "code",
   "execution_count": null,
   "id": "91a1e71a",
   "metadata": {},
   "outputs": [],
   "source": [
    "SyntaxError: invalid syntax\n",
    ">>> primt ('Hello world')\n",
    "Traceback (most recent call last):\n",
    "File \"<stdin>\", line 1, in <module>\n",
    "NameError: name 'primt' is not defined"
   ]
  },
  {
   "cell_type": "code",
   "execution_count": null,
   "id": "7bccdc5e",
   "metadata": {},
   "outputs": [],
   "source": [
    ">>> I hate you Python!\n",
    "File \"<stdin>\", line 1\n",
    "    I hate you Python!"
   ]
  },
  {
   "cell_type": "code",
   "execution_count": null,
   "id": "bd480f19",
   "metadata": {},
   "outputs": [],
   "source": [
    "SyntaxError: invalid syntax\n",
    ">>> if you come out of there, I would teach you a lesson \n",
    "File \"<stdin>\", line 1\n",
    "    if you come out of there, I would teach you a lesson"
   ]
  },
  {
   "cell_type": "code",
   "execution_count": null,
   "id": "f801c6d0",
   "metadata": {},
   "outputs": [],
   "source": [
    "SyntaxError: invalid syntax\n",
    ">>>"
   ]
  },
  {
   "cell_type": "markdown",
   "id": "f127a126",
   "metadata": {},
   "source": [
    "Es macht wenig Sinn, mit Python zu argumentieren. Es ist nur ein Werkzeug. Es hat keine Emotionen und es ist glücklich und bereit, Ihnen zu dienen, wann immer Sie es brauchen.\n",
    "Die Fehlermeldungen klingen hart, aber sie sind nur ein Hilferuf von Python. Es hat sich angeschaut, was Sie eingegeben haben und kann einfach nicht verstehen, was Sie eingegeben haben.\n",
    "\n",
    "Python hat viel mehr mit einem Hund zu tun, der dich bedingungslos liebt, ein paar Schlüsselwörter hat, die er versteht, dich mit einem süßen Gesichtsausdruck ansieht (>>>) und darauf wartet, dass Sie etwas sagen, das es versteht. Wenn Python \"SyntaxError: ungültige Syntax\" sagt, wedelt es einfach mit dem Schwanz und sagt: \"Du scheinst etwas zu sagen, aber ich verstehe einfach nicht, was du gemeint hast, aber bitte rede weiter mit mir (>>>).\"\n",
    "\n",
    "Wenn Ihre Programme immer anspruchsvoller werden, werden Sie auf drei allgemeine Fehlertypen stoßen:"
   ]
  },
  {
   "cell_type": "markdown",
   "id": "98156a33",
   "metadata": {},
   "source": [
    "**Syntax errors (Syntaxfehler)** Dies sind die ersten Fehler, die Sie machen werden und die am einfachsten zu beheben sind. Ein Syntaxfehler bedeutet, dass Sie gegen die \"Grammatik\"-Regeln von Python verstoßen haben.\n",
    "Python tut sein Bestes, um genau auf die Zeile und das Zeichen zu zeigen, wo es bemerkt hat, dass es verwirrt war.\n",
    "Das einzig Tückische an Syntaxfehlern ist, dass der Fehler, der behoben werden muss, manchmal sogar früher im Programm liegt als an der Stelle, an der Python *bemerkt* hat, dass er verwirrt war.\n",
    "Die Zeile und das Zeichen, die Python bei einem Syntaxfehler anzeigt, können also nur ein Ausgangspunkt für Ihre Untersuchung sein.\n",
    "**Logic errors (Logikfehler)** Ein Logikfehler liegt vor, wenn Ihr Programm eine gute Syntax hat, aber ein Fehler in der Reihenfolge der Anweisungen oder vielleicht ein Fehler in der Beziehung der Anweisungen zueinander vorliegt. Ein gutes Beispiel für einen Logikfehler könnte sein: \"Nimm einen Schluck aus deiner Wasserflasche, stecke sie in deinen Rucksack, gehe zur zur Bibliothek und schließe dann den Deckel wieder auf die Flasche.\"\n",
    "**Semantic errors (Semantische Fehler)** Ein semantischer Fehler liegt vor, wenn Ihre Beschreibung der auszuführenden Schritte syntaktisch korrekt und in der richtigen Reihenfolge ist, aber das Programm einen Fehler enthält.\n",
    "Das Programm ist richtig, aber es tut nicht das, was es soll. Ein einfaches Beispiel wäre, wenn Sie einer Person eine Wegbeschreibung zu einem Restaurant geben und sagen würden,\n",
    "\"... wenn Sie die Kreuzung mit der Tankstelle erreichen, biegen Sie links ab und gehen eine Meile weiter. Das Restaurant ist ein rotes Gebäude auf der linken Seite. Ihr Freund ist sehr spät dran und ruft Sie an, um Ihnen mitzuteilen, dass er sich auf einem Bauernhof befindet und hinter einer Scheune herumläuft, ohne dass ein Restaurant zu sehen ist. Sie fragen: \"Bist du an der Tankstelle links oder rechts abgebogen?\", und er sagt: \"Ich habe mich genau an deine Anweisungen gehalten, ich habe sie aufgeschrieben und da steht, dass du an der Tankstelle links abbiegen und eine Meile weitergehen musst.\" Dann sagen Sie: \"Es tut mir sehr leid. Meine Anweisungen waren zwar syntaktisch korrekt, aber leider enthielten sie einen kleinen, unentdeckten semantischen Fehler.\"."
   ]
  },
  {
   "cell_type": "markdown",
   "id": "2d46dd0a",
   "metadata": {},
   "source": [
    "Bei allen drei Arten von Fehlern versucht Python lediglich, genau das zu tun, was Sie verlangt haben."
   ]
  }
 ],
 "metadata": {
  "kernelspec": {
   "display_name": "Python 3 (ipykernel)",
   "language": "python",
   "name": "python3"
  },
  "language_info": {
   "codemirror_mode": {
    "name": "ipython",
    "version": 3
   },
   "file_extension": ".py",
   "mimetype": "text/x-python",
   "name": "python",
   "nbconvert_exporter": "python",
   "pygments_lexer": "ipython3",
   "version": "3.9.13"
  }
 },
 "nbformat": 4,
 "nbformat_minor": 5
}
