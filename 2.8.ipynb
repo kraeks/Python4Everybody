{
 "cells": [
  {
   "cell_type": "markdown",
   "id": "d792b05c",
   "metadata": {},
   "source": [
    "## Modulus Operator"
   ]
  },
  {
   "cell_type": "markdown",
   "id": "d88a6b7a",
   "metadata": {},
   "source": [
    "Der \"Modulus-Operator\" arbeitet mit ganzen Zahlen und liefert den Rest, wenn der erste Operand durch den zweiten geteilt wird. In Python ist der Modulus-Operator ein Prozentzeichen (%). Die Syntax ist die gleiche wie bei den anderen Operatoren:"
   ]
  },
  {
   "cell_type": "code",
   "execution_count": null,
   "id": "ed38d804",
   "metadata": {},
   "outputs": [],
   "source": [
    ">>> quotient = 7 // 3\n",
    ">>> print(quotient)\n",
    "2\n",
    ">>> remainder = 7 % 3\n",
    ">>> print(remainder)\n",
    "1"
   ]
  },
  {
   "cell_type": "markdown",
   "id": "8e43c14e",
   "metadata": {},
   "source": [
    "7 geteilt durch 3 ist 2 Rest 1.\n",
    "Der Modulus-Operator erweist sich als erstaunlich nützlich. So kann man beispielsweise prüfen, ob eine Zahl durch eine andere teilbar ist: Wenn x % y gleich Null ist, dann ist x durch y teilbar.\n",
    "Sie können auch die äußerste rechte Ziffer oder Ziffern einer Zahl extrahieren. Zum Beispiel ergibt x % 10 die äußerste rechte Ziffer von x (zur Basis 10). Somit ergibt x % 100 beispielsweise die letzten beiden Ziffern."
   ]
  }
 ],
 "metadata": {
  "kernelspec": {
   "display_name": "Python 3 (ipykernel)",
   "language": "python",
   "name": "python3"
  },
  "language_info": {
   "codemirror_mode": {
    "name": "ipython",
    "version": 3
   },
   "file_extension": ".py",
   "mimetype": "text/x-python",
   "name": "python",
   "nbconvert_exporter": "python",
   "pygments_lexer": "ipython3",
   "version": "3.9.13"
  }
 },
 "nbformat": 4,
 "nbformat_minor": 5
}
