{
 "cells": [
  {
   "cell_type": "markdown",
   "id": "64e3e105",
   "metadata": {},
   "source": [
    "## 2.1 Werte und Typen"
   ]
  },
  {
   "cell_type": "markdown",
   "id": "34f517fb",
   "metadata": {},
   "source": [
    "Ein Wert ist eines der grundlegenden Dinge, mit denen ein Programm arbeitet, wie ein Buchstabe oder eine Zahl.\n",
    "Die Werte, die wir bis jetzt gesehen haben, sind 1, 2 und \"Hello, World!\".\n",
    "Diese Werte gehören zu unterschiedlichen Typen: 2 ist ein Integer (ganze Zahl), und \"Hello, World!\" ist ein string (Zeichenkette), weil sie eine \"Kette\" von Buchstaben enthält. Sie (und der Interpreter) können stings erkennen, weil sie in Anführungszeichen eingeschlossen sind.\n",
    "Die \"print\" Anweisung funktioniert auch für ganze Zahlen. Wir verwenden den \"python\" Befehl, um den Interpreter zu starten."
   ]
  },
  {
   "cell_type": "code",
   "execution_count": null,
   "id": "d26fd15d",
   "metadata": {},
   "outputs": [],
   "source": [
    "python\n",
    ">>> print(4)\n",
    "4"
   ]
  },
  {
   "cell_type": "markdown",
   "id": "a90a0c19",
   "metadata": {},
   "source": [
    "Wenn man sich nicht sicher ist, welchen Typ ein Wert hat, kann der Interpreter Ihnen das sagen."
   ]
  },
  {
   "cell_type": "code",
   "execution_count": null,
   "id": "8f4bffa4",
   "metadata": {},
   "outputs": [],
   "source": [
    ">>> type('Hello, World!')\n",
    "<class 'str'>\n",
    ">>> type(17)\n",
    "<class 'int'>"
   ]
  },
  {
   "cell_type": "markdown",
   "id": "273e9417",
   "metadata": {},
   "source": [
    "Es überrascht nicht, dass strings zum Typ \"str\" und integers zum Typ \"int\" gehören. Weniger offensichtlich ist, dass Zahlen mit einem decimal point (Dezimalpunkt) zum Typ \"float\" gehören, da diese Zahlen in einem Format namens \"floating point\" dargestellt werden."
   ]
  },
  {
   "cell_type": "code",
   "execution_count": null,
   "id": "ecb96bc5",
   "metadata": {},
   "outputs": [],
   "source": [
    ">>> type(3.2)\n",
    "<class 'float'>"
   ]
  },
  {
   "cell_type": "markdown",
   "id": "e10f296d",
   "metadata": {},
   "source": [
    "Was ist mit Werten wie \"17\" und \"3.2\"? Sie sehen aus wie Zahlen, aber sie sind in Anführungszeichen gesetzt wie Zeichenketten."
   ]
  },
  {
   "cell_type": "code",
   "execution_count": null,
   "id": "1959b19a",
   "metadata": {},
   "outputs": [],
   "source": [
    ">>> type('17')\n",
    "<class 'str'>\n",
    ">>> type('3.2')\n",
    "<class 'str'>"
   ]
  },
  {
   "cell_type": "markdown",
   "id": "dfadeabb",
   "metadata": {},
   "source": [
    "Es sind strings.\n",
    "Wenn Sie eine große ganze Zahl eingeben, möchten Sie vielleicht Kommas zwischen Gruppen von drei Ziffern zu setzen, wie in 1,000,000. Dies ist in Python keine zulässige ganze Zahl, aber sie ist möglich:"
   ]
  },
  {
   "cell_type": "code",
   "execution_count": null,
   "id": "910e4341",
   "metadata": {},
   "outputs": [],
   "source": [
    ">>> print(1,000,000)\n",
    "100"
   ]
  },
  {
   "cell_type": "markdown",
   "id": "84659d87",
   "metadata": {},
   "source": [
    "Nun, das ist überhaupt nicht das, was wir erwartet haben! Python interpretiert 1,000,000 als eine durch Kommas getrennte Folge von ganzen Zahlen, die es mit Leerzeichen dazwischen ausgibt.\n",
    "Dies ist das erste Beispiel für einen semantischen Fehler: Der Code läuft, ohne eine Fehlermeldung zu erzeugen, aber er tut nicht das \"Richtige\"."
   ]
  }
 ],
 "metadata": {
  "kernelspec": {
   "display_name": "Python 3 (ipykernel)",
   "language": "python",
   "name": "python3"
  },
  "language_info": {
   "codemirror_mode": {
    "name": "ipython",
    "version": 3
   },
   "file_extension": ".py",
   "mimetype": "text/x-python",
   "name": "python",
   "nbconvert_exporter": "python",
   "pygments_lexer": "ipython3",
   "version": "3.9.13"
  }
 },
 "nbformat": 4,
 "nbformat_minor": 5
}
