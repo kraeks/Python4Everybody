{
 "cells": [
  {
   "cell_type": "markdown",
   "id": "55ae0c51",
   "metadata": {},
   "source": [
    "## Der Lernweg"
   ]
  },
  {
   "cell_type": "markdown",
   "id": "6fed332d",
   "metadata": {},
   "source": [
    "Haben Sie keine Angst, wenn die Konzepte beim ersten Mal nicht so recht zusammenpassen. Als Sie das Sprechen lernten, war es in den ersten Jahren kein Problem, dass Sie nur niedliche Glucksgeräusche machten.\n",
    "Und es war auch in Ordnung, wenn du sechs Monate gebraucht hast, um von einfachen Vokabeln zu einfachen Sätzen zu kommen und weitere fünf bis sechs Jahre, um von Sätzen zu Absätzen zu kommen und noch ein paar Jahre, bis du in der Lage warst, selbständig eine interessante, vollständige Kurzgeschichte zu schreiben.\n",
    "\n",
    "Wir wollen, dass Sie Python viel schneller lernen, deshalb bringen wir Ihnen in den nächsten Kapiteln alles gleichzeitig bei. Aber es ist wie beim Erlernen einer neuen Sprache, bei der man Zeit braucht, um sie zu verinnerlichen und zu verstehen, bevor sie sich natürlich anfühlt. Das führt zu einiger Verwirrung, da wir Themen besuchen und wieder aufgreifen, um Ihnen das große Ganze zu zeigen, während wir die kleinen Fragmente definieren, die das große Ganze ausmachen. Das Buch ist zwar linear geschrieben und wenn Sie einen Kurs belegen, wird es auch linear sein, aber zögern Sie nicht, sich dem Stoff sehr unlinear zu nähern. Schauen Sie vorwärts und rückwärts und lesen Sie mit leichter Hand. Wenn Sie fortgeschrittenes Material überfliegen, ohne die Details vollständig zu verstehen, können Sie ein besseres Verständnis für das\n",
    "\"Warum?\" der Programmierung erhalten. Wenn Sie früheres Material durchgehen und sogar frühere Übungen wiederholen, werden Sie feststellen, dass Sie tatsächlich viel gelernt haben, auch wenn das Material, auf das Sie gerade starren, etwas undurchdringlich erscheint.\n",
    "\n",
    "Wenn man seine erste Programmiersprache lernt, gibt es in der Regel ein paar wunderbare \"Ah Hah!\"-Momente, in denen man vom Hämmern auf einen Felsen mit Hammer und Meißel aufschaut und sieht, dass man tatsächlich eine schöne Skulptur baut.\n",
    "\n",
    "Wenn etwas besonders schwierig erscheint, lohnt es sich normalerweise nicht, die ganze Nacht aufzubleiben und es anzustarren. Machen Sie eine Pause, ein Nickerchen, essen Sie einen Snack, erklären Sie jemandem (oder vielleicht Ihrem Hund), womit Sie ein Problem haben und kommen Sie dann mit frischen Augen wieder darauf zurück. Ich versichere Ihnen, dass Sie, sobald Sie die Programmierkonzepte in diesem Buch erlernt haben, zurückblicken und feststellen werden, dass alles ganz einfach und elegant war und Sie nur ein wenig Zeit gebraucht haben, um es zu verinnerlichen."
   ]
  }
 ],
 "metadata": {
  "kernelspec": {
   "display_name": "Python 3 (ipykernel)",
   "language": "python",
   "name": "python3"
  },
  "language_info": {
   "codemirror_mode": {
    "name": "ipython",
    "version": 3
   },
   "file_extension": ".py",
   "mimetype": "text/x-python",
   "name": "python",
   "nbconvert_exporter": "python",
   "pygments_lexer": "ipython3",
   "version": "3.9.13"
  }
 },
 "nbformat": 4,
 "nbformat_minor": 5
}
