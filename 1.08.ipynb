{
 "cells": [
  {
   "cell_type": "markdown",
   "id": "2f230ce7",
   "metadata": {},
   "source": [
    "## 1.8 Was ist ein Programm?"
   ]
  },
  {
   "cell_type": "markdown",
   "id": "1a284e63",
   "metadata": {},
   "source": [
    "Die grundlegende Definition eines Programms ist eine Abfolge von Python-Anweisungen, die etwas ausführen sollen. Selbst unser einfaches Skript hello.py ist ein Programm. Es ist ein einzeiliges Programm und nicht besonders nützlich, aber dennoch ein Python-Programm.\n",
    "Es ist womöglich am einfachsten zu verstehen, was ein Programm ist, wenn man über ein Problem nachdenkt, zu dessen Lösung ein Programm erstellt werden könnte und sich dann ein Programm ansieht, das dieses Problem lösen würde.\n",
    "Nehmen wir an, es soll im Bereich Social Computing zu Facebook-Beiträgen geforscht werden und man interessiert sich für das am häufigsten verwendete Wort in einer Reihe von Beiträgen. \n",
    "Man könnten den Stream der Facebook-Posts ausdrucken und den Text nach dem häufigsten Wort durchsuchen, aber das würde sehr lange dauern und wäre sehr fehleranfällig. \n",
    "Es wäre daher besser, ein Python-Programm zu schreiben, das diese Aufgabe schnell und genau erledigt, damit man am Wochenende Freizeit hat. \n",
    "Betrachten Sie zum Beispiel den folgenden Text über einen Clown und ein Auto. Schauen Sie sich den Text an und finden Sie heraus, welches Wort am häufigsten vorkommt und wie oft."
   ]
  },
  {
   "cell_type": "markdown",
   "id": "6345c318",
   "metadata": {},
   "source": [
    "**Der Clown rannte hinter dem Auto her und das Auto fuhr in das Zelt und das Zelt stürzte auf den Clown und das Auto.**"
   ]
  },
  {
   "cell_type": "markdown",
   "id": "f56f2898",
   "metadata": {},
   "source": [
    "Dann stellen Sie sich vor, dass Sie diese Aufgabe erledigen, indem Sie sich Millionen von Textzeilen ansehen.\n",
    "Es wäre schneller, Python zu lernen und ein Python-Programm zu schreiben, welches die Wörter zählt, als die Wörter manuell zu durchzugehen.\n",
    "Noch dazu kommt, dass ich bereits ein einfaches Programm entwickelt habe, um das häufigste Wort in einer Textdatei zu finden. Ich habe es geschrieben und getestet und nun stelle ich es Ihnen zur Verfügung, damit Sie etwas Zeit sparen können."
   ]
  },
  {
   "cell_type": "code",
   "execution_count": 6,
   "id": "e1c47a74",
   "metadata": {},
   "outputs": [
    {
     "name": "stdout",
     "output_type": "stream",
     "text": [
      "Enter file:Beispiele/clown.txt\n",
      "das 4\n"
     ]
    }
   ],
   "source": [
    "name = input('Enter file:') #Eingabe: Beispiele/clown.txt\n",
    "handle = open(name, 'r')\n",
    "counts = dict()\n",
    "\n",
    "for line in handle: \n",
    "    words = line.split()\n",
    "    for word in words: \n",
    "        counts[word] = counts.get(word, 0) + 1\n",
    "        \n",
    "bigcount = None\n",
    "bigword = None\n",
    "for word, count in list(counts.items()):\n",
    "    if bigcount is None or count > bigcount:\n",
    "        bigword = word\n",
    "        bigcount = count\n",
    "        \n",
    "print(bigword, bigcount)"
   ]
  },
  {
   "cell_type": "markdown",
   "id": "e5f3dbf5",
   "metadata": {},
   "source": [
    "Python ist ein Weg\n",
    "für uns, um nützliche Befehlsfolgen (1.., Programme) in einer auszutauschen\n",
    "Sprache auszutauschen, die von jedem verwendet werden kann, der Python auf seinem Computer installiert hat.\n",
    "Keiner von uns spricht also mit Python, sondern wir\n",
    "kommunizieren wir miteinander\n",
    "durch Python."
   ]
  },
  {
   "cell_type": "markdown",
   "id": "0afe1edc",
   "metadata": {},
   "source": [
    "Für dieses Programm müssen Sie nicht einmal Python können. Um den genialen Python-Code der hier verwendet wurde dennoch zu verstehen, müssen Sie sich Kapitel 10 dieses Buches ansehen. Sie stellen den Endbenutzer dar und können damit das Programm zu Ihrem Vorteil nutzen, da es Ihnen viel Zeit erspart. \n",
    "Sie geben den Code einfach in eine Datei namens *words.py* ein und führen ihn aus oder laden sich den Quellcode von http://www.py4e.com/code3/words.py herunter und führen es dann aus. \n",
    "\n",
    "Dies ist ein gutes Beispiel dafür, wie Python und die Python-Sprache zwischen Ihnen (Endnutzer) und mir (Programmierer) vermittelt. \n",
    "Python ist für uns ein Weg, um nützliche Befehlsfolgen (z.B. Programme) in einer gemeinsamen Sprache auszutauschen, die jeder verwenden kann, der Python auf seinem Computer installiert hat. \n",
    "Keiner spricht also *mit Python*, sondern wir kommunizieren miteinander *durch* Python.  "
   ]
  },
  {
   "cell_type": "code",
   "execution_count": null,
   "id": "b671d0c7",
   "metadata": {},
   "outputs": [],
   "source": []
  }
 ],
 "metadata": {
  "kernelspec": {
   "display_name": "Python 3 (ipykernel)",
   "language": "python",
   "name": "python3"
  },
  "language_info": {
   "codemirror_mode": {
    "name": "ipython",
    "version": 3
   },
   "file_extension": ".py",
   "mimetype": "text/x-python",
   "name": "python",
   "nbconvert_exporter": "python",
   "pygments_lexer": "ipython3",
   "version": "3.9.13"
  }
 },
 "nbformat": 4,
 "nbformat_minor": 5
}
