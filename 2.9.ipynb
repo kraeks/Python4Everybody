{
 "cells": [
  {
   "cell_type": "markdown",
   "id": "78943dd9",
   "metadata": {},
   "source": [
    "## String Operationen"
   ]
  },
  {
   "cell_type": "markdown",
   "id": "2d0cabdd",
   "metadata": {},
   "source": [
    "Der Operator + arbeitet mit strings, aber es handelt sich nicht um eine Addition im mathematischen Sinne.\n",
    "Stattdessen führt er eine \"concatenation\" (Verknüpfung) durch, d. h. er verbindet die strings, indem er sie aneinander reiht. Zum Beispiel:"
   ]
  },
  {
   "cell_type": "code",
   "execution_count": null,
   "id": "ab2b2ee7",
   "metadata": {},
   "outputs": [],
   "source": [
    ">>> first = 10 \n",
    ">>> second = 15\n",
    ">>> print(first+second)\n",
    "25\n",
    ">>> first = '100'\n",
    ">>> second = '150'\n",
    ">>> print(first + second)\n",
    "100150"
   ]
  },
  {
   "cell_type": "markdown",
   "id": "48ed28ab",
   "metadata": {},
   "source": [
    "Der Operator * arbeitet auch mit strings, indem er den Inhalt eines strings mit einer ganzen Zahl multipliziert. Zum Beispiel:"
   ]
  },
  {
   "cell_type": "code",
   "execution_count": null,
   "id": "48ac3246",
   "metadata": {},
   "outputs": [],
   "source": [
    ">>> first = 'Test'\n",
    ">>> second = 3\n",
    ">>> print(first * second)\n",
    "Test Test Test"
   ]
  }
 ],
 "metadata": {
  "kernelspec": {
   "display_name": "Python 3 (ipykernel)",
   "language": "python",
   "name": "python3"
  },
  "language_info": {
   "codemirror_mode": {
    "name": "ipython",
    "version": 3
   },
   "file_extension": ".py",
   "mimetype": "text/x-python",
   "name": "python",
   "nbconvert_exporter": "python",
   "pygments_lexer": "ipython3",
   "version": "3.9.13"
  }
 },
 "nbformat": 4,
 "nbformat_minor": 5
}
