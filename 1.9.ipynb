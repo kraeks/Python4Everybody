{
 "cells": [
  {
   "cell_type": "markdown",
   "id": "51a0ce52",
   "metadata": {},
   "source": [
    "## 1.9 Die Bausteine der Programme"
   ]
  },
  {
   "cell_type": "markdown",
   "id": "dac531d3",
   "metadata": {},
   "source": [
    "In den nächsten Kapiteln werden wir mehr über den Wortschatz, die Satzstruktur, die Absatzstruktur und die Erzählstruktur von Python lernen. Wir beschäftigen uns mit den starken Fähigkeiten von Python und wie man diese Fähigkeiten zusammensetzt, um\n",
    "nützliche Programme zu erstellen.\n",
    "\n",
    "Es gibt einige konzeptionelle Muster auf niedriger Ebene, die wir zur Konstruktion von Programmen verwenden. \n",
    "Diese Konstrukte sind nicht nur für Python-Programme, sie sind Teil jeder Programmiersprache, von Maschinensprache bis hin zu den Hochsprachen."
   ]
  },
  {
   "cell_type": "markdown",
   "id": "4988014a",
   "metadata": {},
   "source": [
    "**input (Eingabe)** Daten aus der \"Außenwelt\" holen, z.B. das Lesen von Daten aus einer Datei oder sogar eine Art Sensor wie ein Mikrofon oder GPS. \n",
    "In unseren ersten Programmen wird die Eingabe durch den Benutzer erfolgen, der die Daten auf der Tastatur eingibt. \n",
    "**output (Ausgabe)** Die Ergebnisse des Programms auf einem Bildschirm anzeigen, in einer Datei speichern oder sie vielleicht in ein Gerät wie einen Lautsprecher schreiben lassen, um beispielsweise Musik abzuspielen oder einen Text zu sprechen.\n",
    "**Sequential execution (Sequenzielle Ausführung)** Anweisungen nacheinander in der Reihenfolge ausführen, in der sie im Skript auftauchen.\n",
    "**conditional execution (Bedingte Ausführung)** Prüfen auf bestimmte Bedingungen und dann Ausführen oder Überspringen einer\n",
    "Folge von Anweisungen.\n",
    "**repeated execution (Wiederholte Ausführung)** Wiederholt einer Reihe von Anweisungen, normalerweise mit einer gewissen Variation, ausführen.\n",
    "**reuse (Wiederverwenden)** Einmaliges Schreiben eines Anweisungssatzes und Namensvergebung, um diese Anweisung nun je nach Bedarf in Ihrem Programm wiederverwenden."
   ]
  },
  {
   "cell_type": "markdown",
   "id": "d6f8a972",
   "metadata": {},
   "source": [
    "Es klingt beinahe zu einfach, um wahr zu sein und natürlich ist es letztendlich nie so einfach. Es ist wie als würde man sagen, dass Gehen einfach \"einen Fuß vor den anderen zu setzen\" bedeutet. \n",
    "Die \"Kunst\", ein Programm zu schreiben, besteht darin, diese Grundelemente so zusammenzusetzen und zu verweben, dass etwas entsteht, das für die Benutzer nützlich ist.\n",
    "Das obige Wortzählprogramm verwendet alle diese Muster direkt, außer einem."
   ]
  }
 ],
 "metadata": {
  "kernelspec": {
   "display_name": "Python 3 (ipykernel)",
   "language": "python",
   "name": "python3"
  },
  "language_info": {
   "codemirror_mode": {
    "name": "ipython",
    "version": 3
   },
   "file_extension": ".py",
   "mimetype": "text/x-python",
   "name": "python",
   "nbconvert_exporter": "python",
   "pygments_lexer": "ipython3",
   "version": "3.9.13"
  }
 },
 "nbformat": 4,
 "nbformat_minor": 5
}
