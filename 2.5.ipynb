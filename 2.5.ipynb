{
 "cells": [
  {
   "cell_type": "markdown",
   "id": "76bec5de",
   "metadata": {},
   "source": [
    "## Operatoren und Operanden"
   ]
  },
  {
   "cell_type": "markdown",
   "id": "f1762ae0",
   "metadata": {},
   "source": [
    "\"Operators\" (Operatoren) sind spezielle Symbole, die Berechnungen wie Addition und Multiplikation darstellen. Die Werte, auf die der Operator angewandt wird, werden als \"operands\" (Operanden) bezeichnet.\n",
    "Die Operatoren +, -, *, /, und ** führen Addition, Subtraktion, Multiplikation,Division und Potenzierung aus, wie in den folgenden Beispielen zu sehen ist:"
   ]
  },
  {
   "cell_type": "code",
   "execution_count": null,
   "id": "a865cc1f",
   "metadata": {},
   "outputs": [],
   "source": [
    "20+32\n",
    "hour-1\n",
    "hour*60+minute\n",
    "minute/60\n",
    "5**2\n",
    "(5+9)*(15-7)"
   ]
  },
  {
   "cell_type": "markdown",
   "id": "2dffaf5f",
   "metadata": {},
   "source": [
    "Der Divisionsoperator hat sich zwischen Python 2.x und Python 3.x geändert. In Python 3.x ist das Ergebnis dieser Division ein floating point Ergebnis:"
   ]
  },
  {
   "cell_type": "code",
   "execution_count": null,
   "id": "9bd9ebea",
   "metadata": {},
   "outputs": [],
   "source": [
    ">>> minute = 59\n",
    ">>> minute/60\n",
    "0"
   ]
  },
  {
   "cell_type": "markdown",
   "id": "9e04c2b7",
   "metadata": {},
   "source": [
    "Der Divisionsoperator in Python 2.0 würde zwei Ganzzahlen dividieren und das Ergebnis auf eine Ganzzahl abkürzen:"
   ]
  },
  {
   "cell_type": "code",
   "execution_count": null,
   "id": "fec1c877",
   "metadata": {},
   "outputs": [],
   "source": [
    ">>> minute = 59\n",
    ">>> minute/60\n",
    "0"
   ]
  },
  {
   "cell_type": "markdown",
   "id": "b4375d61",
   "metadata": {},
   "source": [
    "Um dieselbe Antwort in Python 3.0 zu erhalten, verwenden Sie die \"floored division\" (//Ganzzahl)."
   ]
  },
  {
   "cell_type": "code",
   "execution_count": null,
   "id": "a07a25ea",
   "metadata": {},
   "outputs": [],
   "source": [
    ">>> minute = 59\n",
    ">>> minute//60\n",
    "0"
   ]
  },
  {
   "cell_type": "markdown",
   "id": "31a4cbc5",
   "metadata": {},
   "source": [
    "In Python 3.0 funktioniert die ganzzahlige Division viel besser, als man es erwarten würde, wenn man den Ausdruck auf einem Taschenrechner eingeben würde."
   ]
  }
 ],
 "metadata": {
  "kernelspec": {
   "display_name": "Python 3 (ipykernel)",
   "language": "python",
   "name": "python3"
  },
  "language_info": {
   "codemirror_mode": {
    "name": "ipython",
    "version": 3
   },
   "file_extension": ".py",
   "mimetype": "text/x-python",
   "name": "python",
   "nbconvert_exporter": "python",
   "pygments_lexer": "ipython3",
   "version": "3.9.13"
  }
 },
 "nbformat": 4,
 "nbformat_minor": 5
}
