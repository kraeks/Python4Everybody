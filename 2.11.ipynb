{
 "cells": [
  {
   "cell_type": "markdown",
   "id": "d94e8ae9",
   "metadata": {},
   "source": [
    "## 2.11 Kommentare"
   ]
  },
  {
   "cell_type": "markdown",
   "id": "b5786e13",
   "metadata": {},
   "source": [
    "Je größer und komplizierter Programme werden, desto schwieriger werden sie zu lesen.\n",
    "Formale Sprachen sind verdichtet und es ist oft schwierig, einen Teil des Codes zu betrachten und herauszufinden, was er tut oder warum.\n",
    "Aus diesem Grund ist es eine gute Idee, Notizen zu Ihren Programmen hinzuzufügen, um in natürlicher Sprache zu erklären, was das Programm tut. Diese Anmerkungen werden \"comments\" (Kommentare) genannt und beginnen in Python mit dem Symbol #:"
   ]
  },
  {
   "cell_type": "code",
   "execution_count": null,
   "id": "fb021a2c",
   "metadata": {},
   "outputs": [],
   "source": [
    "# compute the percentage of the hour that has elapsed\n",
    "percentage = (minute * 100) / 60"
   ]
  },
  {
   "cell_type": "markdown",
   "id": "5b1b505e",
   "metadata": {},
   "source": [
    "In diesem Fall erscheint der Kommentar in einer eigenen Zeile. Sie können Kommentare auch an das Ende einer Zeile setzen:"
   ]
  },
  {
   "cell_type": "code",
   "execution_count": null,
   "id": "1d9c1f10",
   "metadata": {},
   "outputs": [],
   "source": [
    "percentage = (minute * 100) / 60    # percentage of an hour"
   ]
  },
  {
   "cell_type": "markdown",
   "id": "c0855bfe",
   "metadata": {},
   "source": [
    "Alles vom # bis zum Ende der Zeile wird ignoriert; es hat keine Auswirkungen auf das Programm.\n",
    "Kommentare sind am nützlichsten, wenn sie nicht offensichtliche Merkmale des Codes dokumentieren. Es ist vernünftig anzunehmen, dass der Leser selbst herausfinden kann, was der Code tut; es ist viel nützlicher zu erklären warum.\n",
    "Dieser Kommentar ist im Zusammenhang mit dem Code überflüssig und nutzlos: "
   ]
  },
  {
   "cell_type": "code",
   "execution_count": null,
   "id": "956f8527",
   "metadata": {},
   "outputs": [],
   "source": [
    "v = 5    # assign 5 to v"
   ]
  },
  {
   "cell_type": "markdown",
   "id": "616e29c0",
   "metadata": {},
   "source": [
    "Dieser Kommentar beinhaltet nützliche Informationen, die nicht im Code enthalten sind: "
   ]
  },
  {
   "cell_type": "code",
   "execution_count": null,
   "id": "a43e502f",
   "metadata": {},
   "outputs": [],
   "source": [
    "v = 5    # velocity in meters/second "
   ]
  },
  {
   "cell_type": "markdown",
   "id": "4284eb9c",
   "metadata": {},
   "source": [
    "Gute Variablennamen können die Notwendigkeit von Kommentaren verringern, aber lange Namen können komplexe Ausdrücke schwer lesbar machen, so dass es einen Kompromiss gibt."
   ]
  }
 ],
 "metadata": {
  "kernelspec": {
   "display_name": "Python 3 (ipykernel)",
   "language": "python",
   "name": "python3"
  },
  "language_info": {
   "codemirror_mode": {
    "name": "ipython",
    "version": 3
   },
   "file_extension": ".py",
   "mimetype": "text/x-python",
   "name": "python",
   "nbconvert_exporter": "python",
   "pygments_lexer": "ipython3",
   "version": "3.9.13"
  }
 },
 "nbformat": 4,
 "nbformat_minor": 5
}
