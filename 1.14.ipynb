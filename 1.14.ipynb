{
 "cells": [
  {
   "cell_type": "markdown",
   "id": "46dc55ae",
   "metadata": {},
   "source": [
    "## Aufgaben"
   ]
  },
  {
   "cell_type": "markdown",
   "id": "0c70d75c",
   "metadata": {},
   "source": [
    "### Aufgabe 1: Was ist die Funktion des Sekundärspeichers in einem Computer?"
   ]
  },
  {
   "cell_type": "markdown",
   "id": "7e74e440",
   "metadata": {},
   "source": [
    "a) Ausführen aller Berechnungen und der Logik des Programms\n",
    "b) Abrufen von Webseiten über das Internet\n",
    "c) Langfristige Speicherung von Informationen, auch über einen Stromausfall hinausEingaben des Benutzers entgegennehmen\n",
    "d) Eingaben des Benutzers entgegennehmen"
   ]
  },
  {
   "cell_type": "markdown",
   "id": "409688ce",
   "metadata": {},
   "source": [
    "### Aufgabe 2: Was ist ein Programm?"
   ]
  },
  {
   "cell_type": "markdown",
   "id": "fbb79a5b",
   "metadata": {},
   "source": [
    "### Aufgabe 3: Was ist der Unterschied zwischen einem Übersetzer und einem Interpreten?"
   ]
  },
  {
   "cell_type": "markdown",
   "id": "8bc86be4",
   "metadata": {},
   "source": [
    "### Aufgabe 4: Was davon enthält \"Maschinencode\"?"
   ]
  },
  {
   "cell_type": "markdown",
   "id": "54e91282",
   "metadata": {},
   "source": [
    "a) Der Python-Interpreter\n",
    "b) Die Tastatur\n",
    "c) Python Quelldatei\n",
    "d) Ein Textverarbeitungsdokument"
   ]
  },
  {
   "cell_type": "markdown",
   "id": "758c3d94",
   "metadata": {},
   "source": [
    "### Aufgabe 5: Finde den Fehler im folgenden Code:"
   ]
  },
  {
   "cell_type": "code",
   "execution_count": null,
   "id": "53228dfe",
   "metadata": {},
   "outputs": [],
   "source": [
    ">>> primt 'Hello world!'\n",
    "File \"<stdin>\", line 1\n",
    "    primt 'Hello world!'\n",
    "\n",
    "SyntaxError: invalid syntax\n",
    ">>>"
   ]
  },
  {
   "cell_type": "markdown",
   "id": "f2d31401",
   "metadata": {},
   "source": [
    "### Aufgabe 6: Wo im Computer wird eine Variable wie \"x\" gespeichert, nachdem die folgende Python-Zeile beendet ist?"
   ]
  },
  {
   "cell_type": "code",
   "execution_count": null,
   "id": "2c69d69f",
   "metadata": {},
   "outputs": [],
   "source": [
    "x = 123"
   ]
  },
  {
   "cell_type": "markdown",
   "id": "f4d04821",
   "metadata": {},
   "source": [
    "a) CPU\n",
    "b) Hauptspeicher\n",
    "c) Sekundärspeicher\n",
    "d) Eingabegeräte\n",
    "e) Ausgabegeräte"
   ]
  },
  {
   "cell_type": "markdown",
   "id": "a21f823a",
   "metadata": {},
   "source": [
    "### Aufgabe 7: Was wird das folgende Programm ausgeben:"
   ]
  },
  {
   "cell_type": "code",
   "execution_count": null,
   "id": "85764213",
   "metadata": {},
   "outputs": [],
   "source": [
    "x = 43\n",
    "x = x + 1\n",
    "print(x)"
   ]
  },
  {
   "cell_type": "markdown",
   "id": "89ff57b0",
   "metadata": {},
   "source": [
    "a) 43\n",
    "b) 44\n",
    "c) x + 1\n",
    "d) Fehler, da x = x + 1 mathematisch unmöglich ist"
   ]
  },
  {
   "cell_type": "markdown",
   "id": "b8b1014f",
   "metadata": {},
   "source": [
    "### Aufgabe 8: Erläutern Sie die folgenden Begriffe anhand eines Beispiels für eine menschliche Fähigkeit: (1) Zentrale Recheneinheit (CPU), (2) Hauptspeicher, (3) Sekundärspeicher, (4) Eingabegerät, und (5) Ausgabegerät. Zum Beispiel, \"Was ist das menschliche Äquivalent zu einer Zentraleinheit (Central Processing Unit)\"?"
   ]
  },
  {
   "cell_type": "markdown",
   "id": "8c1b8a1d",
   "metadata": {},
   "source": [
    "### Aufgabe 9: Wie behebt man einen \"Syntaxfehler\"?"
   ]
  }
 ],
 "metadata": {
  "kernelspec": {
   "display_name": "Python 3 (ipykernel)",
   "language": "python",
   "name": "python3"
  },
  "language_info": {
   "codemirror_mode": {
    "name": "ipython",
    "version": 3
   },
   "file_extension": ".py",
   "mimetype": "text/x-python",
   "name": "python",
   "nbconvert_exporter": "python",
   "pygments_lexer": "ipython3",
   "version": "3.9.13"
  }
 },
 "nbformat": 4,
 "nbformat_minor": 5
}
