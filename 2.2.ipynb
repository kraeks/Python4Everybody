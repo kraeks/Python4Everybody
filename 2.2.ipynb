{
 "cells": [
  {
   "cell_type": "markdown",
   "id": "661719d3",
   "metadata": {},
   "source": [
    "## 2.2 Variablen"
   ]
  },
  {
   "cell_type": "markdown",
   "id": "7b3d109f",
   "metadata": {},
   "source": [
    "Eine der stärksten Funktionen einer Programmiersprache ist die Möglichkeit, Variablen zu manipulieren. Eine Variable ist ein Name, der sich auf einen Wert bezieht.\n",
    "Ein \"assignment statement\" (Zuweisungsanweisung) erstellt neue Variablen und weist ihnen Werte zu:"
   ]
  },
  {
   "cell_type": "code",
   "execution_count": null,
   "id": "7e068335",
   "metadata": {},
   "outputs": [],
   "source": [
    ">>> message = 'And now for something completely different'\n",
    ">>> n = 17\n",
    ">>> pi = 3.1415926535897931"
   ]
  },
  {
   "cell_type": "markdown",
   "id": "f92cb9de",
   "metadata": {},
   "source": [
    "In diesem Beispiel werden drei Zuweisungen vorgenommen. Die erste weist einen string einer neuen Variablen namens \"message\" zu; die zweite weist die ganze Zahl 17 \"n\" zu; die dritte weist pi den (ungefähren) Wert von π zu.\n",
    "Um den Wert einer Variablen anzuzeigen, können Sie eine print-Anweisung verwenden:"
   ]
  },
  {
   "cell_type": "code",
   "execution_count": null,
   "id": "6d6d3a7e",
   "metadata": {},
   "outputs": [],
   "source": [
    ">>> print(n)\n",
    "17\n",
    ">>> print(pi)\n",
    "3.1415926535897931"
   ]
  },
  {
   "cell_type": "markdown",
   "id": "a855a025",
   "metadata": {},
   "source": [
    "Der Typ einer Variablen ist der Typ des Wertes, auf den es sich bezieht."
   ]
  },
  {
   "cell_type": "code",
   "execution_count": null,
   "id": "eaf264b4",
   "metadata": {},
   "outputs": [],
   "source": [
    ">>> type(message)\n",
    "<class 'str'>\n",
    ">>> type(n)\n",
    "<class 'int'>\n",
    ">>> type(pi)\n",
    "<class 'float'>"
   ]
  }
 ],
 "metadata": {
  "kernelspec": {
   "display_name": "Python 3 (ipykernel)",
   "language": "python",
   "name": "python3"
  },
  "language_info": {
   "codemirror_mode": {
    "name": "ipython",
    "version": 3
   },
   "file_extension": ".py",
   "mimetype": "text/x-python",
   "name": "python",
   "nbconvert_exporter": "python",
   "pygments_lexer": "ipython3",
   "version": "3.9.13"
  }
 },
 "nbformat": 4,
 "nbformat_minor": 5
}
