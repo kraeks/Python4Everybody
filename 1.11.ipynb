{
 "cells": [
  {
   "cell_type": "markdown",
   "id": "d0ed8096",
   "metadata": {},
   "source": [
    "## 1.11 Debugging (Fehlersuche)"
   ]
  },
  {
   "cell_type": "markdown",
   "id": "146a6665",
   "metadata": {},
   "source": [
    "Wenn Python einen Fehler ausspuckt oder sogar ein Ergebnis liefert, das sich von dem unterscheidet, was Sie beabsichtigt hatten, dann beginnt die Suche nach der Ursache des Fehlers. Beim Debugging geht es darum, die Ursache für den Fehler in Ihrem Code zu finden. Bei der Fehlersuche in einem Programm, insbesondere wenn Sie an einem schwerwiegenden Fehler arbeiten, gibt es vier Dinge, die Sie versuchen sollten:"
   ]
  },
  {
   "cell_type": "markdown",
   "id": "c1609bff",
   "metadata": {},
   "source": [
    "**reading (Lesen)** Prüfen Sie Ihren Code, lesen Sie ihn sich noch einmal durch und vergewissern Sie sich, dass er das aussagt, was Sie sagen wollten.\n",
    "**running (Ausführen)*** Experimentieren Sie, indem Sie Änderungen vornehmen und verschiedene Versionen ausführen. Wenn man das Richtige an der richtigen Stelle im Programm anzeigt, wird das Problem oft offensichtlich, aber manchmal muss man einige Zeit damit verbringen, ein Gerüst zu bauen.\n",
    "**ruminating (Grübeln)** Nehmen Sie sich etwas Zeit zum Nachdenken! Um welche Art von Fehler handelt es sich: Syntax, Laufzeit, semantisch?\n",
    "Welche Informationen können Sie aus den Fehlermeldungen oder der Ausgabe des Programms entnehmen? Welche Art von Fehler könnte das Problem, das Sie sehen, verursachen? Was haben Sie zuletzt geändert, bevor das Problem auftrat?\n",
    "**retreating (Rückzug)** Irgendwann ist es am besten, sich zurückzuziehen und die letzten Änderungen rückgängig zu machen, bis man zu einem Programm zurückkehrt, das funktioniert und das man versteht. Dann können Sie mit dem Wiederaufbau beginnen."
   ]
  },
  {
   "cell_type": "markdown",
   "id": "e92cab2d",
   "metadata": {},
   "source": [
    "Programmieranfänger bleiben manchmal bei einer dieser Tätigkeiten stecken und vergessen die anderen. Um einen schwerwiegenden Fehler zu finden, muss man lesen, rennen, grübeln und sich manchmal zurückziehen. Wenn Sie bei einer dieser Aktivitäten nicht weiterkommen, versuchen Sie die anderen. Jede Aktivität hat ihren eigenen Fehlermodus.\n",
    "\n",
    "Das Lesen Ihres Codes kann zum Beispiel helfen, wenn das Problem ein Tippfehler ist, aber nicht, wenn das Problem ein konzeptionelles Missverständnis ist. Wenn Sie nicht verstehen, was Ihr Programm tut, können Sie es 100 Mal lesen, ohne den Fehler zu sehen, denn der Fehler ist in Ihrem Kopf.\n",
    "\n",
    "Die Durchführung von Experimenten kann helfen, vor allem wenn es sich um kleine, einfache Tests handelt. Wenn Sie jedoch Experimente durchführen, ohne nachzudenken oder Ihren Code zu lesen, könnten Sie in ein Muster verfallen, das ich \"Random-Walk-Programmierung\" nenne, d.h. der Prozess, bei dem Sie zufällige Änderungen vornehmen, bis das Programm das Richtige tut. Diese Random-Walk-Programmierung kann sehr lange dauern.\n",
    "\n",
    "Man muss sich Zeit zum Nachdenken nehmen. Die Fehlersuche ist wie eine experimentelle Wissenschaft. Sie sollten mindestens eine Hypothese über das Problem haben. Wenn es zwei oder mehr Möglichkeiten gibt, sollten Sie sich einen Test überlegen, der eine davon ausschließt.\n",
    "\n",
    "Eine Pause hilft beim Nachdenken. Das gilt auch für das Reden. Wenn Sie das Problem einer anderen Person (oder sogar sich selbst) erklären, finden Sie manchmal die Antwort, bevor Sie die Frage zu Ende gestellt haben.\n",
    "\n",
    "Aber selbst die besten Debugging-Techniken versagen, wenn es zu viele Fehler gibt oder wenn der Code, den Sie beheben wollen, zu groß und kompliziert ist. Manchmal ist es am besten sich zurückzuziehen und das Programm zu vereinfachen, bis man zu etwas gelangt, das funktioniert und versteht.\n",
    "\n",
    "Programmieranfänger zögern oft, sich zurückzuziehen, weil sie es nicht ertragen können, eine Codezeile zu löschen (selbst wenn sie falsch ist). Wenn Sie sich dann besser fühlen, kopieren Sie Ihr Programm in eine andere Datei, bevor Sie es auseinander nehmen. Dann können Sie die Teile nach und nach wieder einfügen."
   ]
  }
 ],
 "metadata": {
  "kernelspec": {
   "display_name": "Python 3 (ipykernel)",
   "language": "python",
   "name": "python3"
  },
  "language_info": {
   "codemirror_mode": {
    "name": "ipython",
    "version": 3
   },
   "file_extension": ".py",
   "mimetype": "text/x-python",
   "name": "python",
   "nbconvert_exporter": "python",
   "pygments_lexer": "ipython3",
   "version": "3.9.13"
  }
 },
 "nbformat": 4,
 "nbformat_minor": 5
}
