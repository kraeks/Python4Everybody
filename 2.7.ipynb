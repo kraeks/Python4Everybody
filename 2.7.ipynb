{
 "cells": [
  {
   "cell_type": "markdown",
   "id": "62d096ac",
   "metadata": {},
   "source": [
    "## Reihenfolge der Operationen"
   ]
  },
  {
   "cell_type": "markdown",
   "id": "58e83a0b",
   "metadata": {},
   "source": [
    "Wenn mehr als ein Operator in einem Ausdruck vorkommt, richtet sich die Reihenfolge der Auswertung nach den \"Regeln des Vorrangs\". Bei mathematischen Operatoren folgt Python der mathematischen Konvention. Das Akronym PEMDAS ist eine nützliche Methode, um sich die Regeln zu merken:"
   ]
  },
  {
   "cell_type": "markdown",
   "id": "946e58bf",
   "metadata": {},
   "source": [
    "- Klammern haben den höchsten Vorrang und können verwendet werden, um einen Ausdruck in der gewünschten Reihenfolge auszuwerten. Da Ausdrücke in Klammern zuerst ausgewertet werden, ist 2 * (3-1) gleich 4 und (1+1) ** (5-2) gleich 8. Sie können Klammern auch verwenden, um einen Ausdruck leichter lesbar zu machen, wie in (minute * 100) / 60, auch wenn dies das Ergebnis nicht ändert."
   ]
  },
  {
   "cell_type": "markdown",
   "id": "718bfaa8",
   "metadata": {},
   "source": [
    "- Die Potenzierung hat den nächsthöheren Vorrang, also ist 2 ** 1+1 gleich 3, nicht 4, und 3 * 1 ** 3 ist 3, nicht 27."
   ]
  },
  {
   "cell_type": "markdown",
   "id": "06302e1f",
   "metadata": {},
   "source": [
    "- Multiplikation und Division haben den gleichen Vorrang, der höher ist als beimAddition und Subtraktion, die ebenfalls den gleichen Vorrang haben. 2 * 3-1 ist also 5, nicht 4, und 6+4/2 ist 8, nicht 5."
   ]
  },
  {
   "cell_type": "markdown",
   "id": "000dc641",
   "metadata": {},
   "source": [
    "- Operatoren mit demselben Vorrang werden von links nach rechts ausgewertet. Der Ausdruck 5-3-1 ist also 1, nicht 3, weil zuerst die 5-3 erfolgt und dann 1 von 2 subtrahiert wird."
   ]
  },
  {
   "cell_type": "markdown",
   "id": "63b74578",
   "metadata": {},
   "source": [
    "Setzen Sie im Zweifelsfall immer Klammern in Ihre Ausdrücke, um sicherzustellen, dass die Berechnungen in der von Ihnen gewünschten Reihenfolge durchgeführt werden."
   ]
  }
 ],
 "metadata": {
  "kernelspec": {
   "display_name": "Python 3 (ipykernel)",
   "language": "python",
   "name": "python3"
  },
  "language_info": {
   "codemirror_mode": {
    "name": "ipython",
    "version": 3
   },
   "file_extension": ".py",
   "mimetype": "text/x-python",
   "name": "python",
   "nbconvert_exporter": "python",
   "pygments_lexer": "ipython3",
   "version": "3.9.13"
  }
 },
 "nbformat": 4,
 "nbformat_minor": 5
}
