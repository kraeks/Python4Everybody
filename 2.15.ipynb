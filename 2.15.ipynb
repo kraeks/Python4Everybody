{
 "cells": [
  {
   "cell_type": "markdown",
   "id": "71d673db",
   "metadata": {},
   "source": [
    "## Aufgaben"
   ]
  },
  {
   "cell_type": "markdown",
   "id": "feff9192",
   "metadata": {},
   "source": [
    "### Aufgabe 1: Schreiben Sie ein Programm, das einen Benutzer mit Hilfe von Eingaben nach seinem Namen fragt und ihn dann begrüßt."
   ]
  },
  {
   "cell_type": "code",
   "execution_count": 2,
   "id": "7c6965ec",
   "metadata": {},
   "outputs": [],
   "source": [
    "#Bitte geben Sie Ihren Namen ein: Lexi\n",
    "#Hallo Lexi"
   ]
  },
  {
   "cell_type": "markdown",
   "id": "846155d9",
   "metadata": {},
   "source": [
    "[Musterlösungen](Lösungen/2_15.ipynb)"
   ]
  },
  {
   "cell_type": "markdown",
   "id": "387d76da",
   "metadata": {},
   "source": [
    "### Aufgabe 3: Schreiben Sie ein Programm, das den Benutzer nach Stunden und Stundensatz fragt, um den Bruttolohn zu berechnen."
   ]
  },
  {
   "cell_type": "code",
   "execution_count": null,
   "id": "4e5595eb",
   "metadata": {},
   "outputs": [],
   "source": [
    "Enter Hours: 35\n",
    "Enter Rate: 2.75\n",
    "Pay: 96.25"
   ]
  },
  {
   "cell_type": "markdown",
   "id": "173a4532",
   "metadata": {},
   "source": [
    "Wir werden uns vorerst nicht darum kümmern, dass unser Lohn genau zwei Stellen nach dem Komma hat. Wenn Sie möchten, können Sie mit der eingebauten Python \"round function (Rundungsfunktion) spielen, um den resultierenden Lohn auf zwei Dezimalstellen zu runden."
   ]
  },
  {
   "cell_type": "markdown",
   "id": "cc492b44",
   "metadata": {},
   "source": [
    "### Aufgabe 4: Nehmen wir an, dass wir die folgende Zuordnungsanweisungen ausführen:"
   ]
  },
  {
   "cell_type": "code",
   "execution_count": null,
   "id": "8f522667",
   "metadata": {},
   "outputs": [],
   "source": [
    "width = 17\n",
    "height = 12.0"
   ]
  },
  {
   "cell_type": "markdown",
   "id": "f8608c62",
   "metadata": {},
   "source": [
    "Schreiben Sie für jeden der folgenden Ausdrücke den Wert des Ausdrucks und den Typ (des Wertes des Ausdrucks)."
   ]
  },
  {
   "cell_type": "code",
   "execution_count": null,
   "id": "acf94984",
   "metadata": {},
   "outputs": [],
   "source": [
    "1. width//2\n",
    "2. width/2.0\n",
    "3. height/3\n",
    "4. 1 + 2 * 5"
   ]
  },
  {
   "cell_type": "markdown",
   "id": "2eed0d8d",
   "metadata": {},
   "source": [
    "Nutze den Python Interpreter, um deine Antworten zu überprüfen. "
   ]
  },
  {
   "cell_type": "markdown",
   "id": "25c5b93e",
   "metadata": {},
   "source": [
    "### Aufgabe 5: Schreiben Sie ein Programm, das den Benutzer zur Eingabe einer Celsius-Temperatur auffordert, die Temperatur in Fahrenheit umrechnet und die umgerechnete Temperatur ausgibt."
   ]
  }
 ],
 "metadata": {
  "kernelspec": {
   "display_name": "Python 3 (ipykernel)",
   "language": "python",
   "name": "python3"
  },
  "language_info": {
   "codemirror_mode": {
    "name": "ipython",
    "version": 3
   },
   "file_extension": ".py",
   "mimetype": "text/x-python",
   "name": "python",
   "nbconvert_exporter": "python",
   "pygments_lexer": "ipython3",
   "version": "3.9.13"
  }
 },
 "nbformat": 4,
 "nbformat_minor": 5
}
